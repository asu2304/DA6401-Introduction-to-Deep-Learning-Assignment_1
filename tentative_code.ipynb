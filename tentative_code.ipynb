{
 "cells": [
  {
   "cell_type": "markdown",
   "id": "7d62b44e-1ad7-4328-bf28-79abc09f7a5c",
   "metadata": {},
   "source": [
    "## Assignment 1: (DA6401) Introduction to Deep Learning"
   ]
  },
  {
   "cell_type": "markdown",
   "id": "6f724bf2-8235-4553-8f20-792a4f8a023f",
   "metadata": {
    "jp-MarkdownHeadingCollapsed": true
   },
   "source": [
    "#### installing dependencies and setting up the wandb"
   ]
  },
  {
   "cell_type": "code",
   "execution_count": 3,
   "id": "1cd17589-d1c5-4208-86cc-8bfa1c565200",
   "metadata": {},
   "outputs": [
    {
     "name": "stdout",
     "output_type": "stream",
     "text": [
      "Defaulting to user installation because normal site-packages is not writeable\n",
      "Requirement already satisfied: wandb in c:\\users\\ashutosh patidar\\appdata\\roaming\\python\\python312\\site-packages (0.19.7)\n",
      "Requirement already satisfied: click!=8.0.0,>=7.1 in c:\\anaconda3\\lib\\site-packages (from wandb) (8.1.7)\n",
      "Requirement already satisfied: docker-pycreds>=0.4.0 in c:\\users\\ashutosh patidar\\appdata\\roaming\\python\\python312\\site-packages (from wandb) (0.4.0)\n",
      "Requirement already satisfied: gitpython!=3.1.29,>=1.0.0 in c:\\anaconda3\\lib\\site-packages (from wandb) (3.1.43)\n",
      "Requirement already satisfied: platformdirs in c:\\anaconda3\\lib\\site-packages (from wandb) (3.10.0)\n",
      "Requirement already satisfied: protobuf!=4.21.0,!=5.28.0,<6,>=3.19.0 in c:\\anaconda3\\lib\\site-packages (from wandb) (4.25.3)\n",
      "Requirement already satisfied: psutil>=5.0.0 in c:\\anaconda3\\lib\\site-packages (from wandb) (5.9.0)\n",
      "Requirement already satisfied: pydantic<3,>=2.6 in c:\\anaconda3\\lib\\site-packages (from wandb) (2.8.2)\n",
      "Requirement already satisfied: pyyaml in c:\\anaconda3\\lib\\site-packages (from wandb) (6.0.1)\n",
      "Requirement already satisfied: requests<3,>=2.0.0 in c:\\anaconda3\\lib\\site-packages (from wandb) (2.32.3)\n",
      "Requirement already satisfied: sentry-sdk>=2.0.0 in c:\\users\\ashutosh patidar\\appdata\\roaming\\python\\python312\\site-packages (from wandb) (2.22.0)\n",
      "Requirement already satisfied: setproctitle in c:\\users\\ashutosh patidar\\appdata\\roaming\\python\\python312\\site-packages (from wandb) (1.3.5)\n",
      "Requirement already satisfied: setuptools in c:\\anaconda3\\lib\\site-packages (from wandb) (75.1.0)\n",
      "Requirement already satisfied: colorama in c:\\anaconda3\\lib\\site-packages (from click!=8.0.0,>=7.1->wandb) (0.4.6)\n",
      "Requirement already satisfied: six>=1.4.0 in c:\\anaconda3\\lib\\site-packages (from docker-pycreds>=0.4.0->wandb) (1.16.0)\n",
      "Requirement already satisfied: gitdb<5,>=4.0.1 in c:\\anaconda3\\lib\\site-packages (from gitpython!=3.1.29,>=1.0.0->wandb) (4.0.7)\n",
      "Requirement already satisfied: annotated-types>=0.4.0 in c:\\anaconda3\\lib\\site-packages (from pydantic<3,>=2.6->wandb) (0.6.0)\n",
      "Requirement already satisfied: pydantic-core==2.20.1 in c:\\anaconda3\\lib\\site-packages (from pydantic<3,>=2.6->wandb) (2.20.1)\n",
      "Requirement already satisfied: typing-extensions>=4.6.1 in c:\\anaconda3\\lib\\site-packages (from pydantic<3,>=2.6->wandb) (4.11.0)\n",
      "Requirement already satisfied: charset-normalizer<4,>=2 in c:\\anaconda3\\lib\\site-packages (from requests<3,>=2.0.0->wandb) (3.3.2)\n",
      "Requirement already satisfied: idna<4,>=2.5 in c:\\anaconda3\\lib\\site-packages (from requests<3,>=2.0.0->wandb) (3.7)\n",
      "Requirement already satisfied: urllib3<3,>=1.21.1 in c:\\anaconda3\\lib\\site-packages (from requests<3,>=2.0.0->wandb) (2.2.3)\n",
      "Requirement already satisfied: certifi>=2017.4.17 in c:\\anaconda3\\lib\\site-packages (from requests<3,>=2.0.0->wandb) (2024.8.30)\n",
      "Requirement already satisfied: smmap<5,>=3.0.1 in c:\\anaconda3\\lib\\site-packages (from gitdb<5,>=4.0.1->gitpython!=3.1.29,>=1.0.0->wandb) (4.0.0)\n"
     ]
    }
   ],
   "source": [
    "!pip install wandb"
   ]
  },
  {
   "cell_type": "code",
   "execution_count": 4,
   "id": "94710321-6c4c-4644-aca4-5ca13ae61672",
   "metadata": {
    "scrolled": true
   },
   "outputs": [
    {
     "name": "stderr",
     "output_type": "stream",
     "text": [
      "wandb: Using wandb-core as the SDK backend.  Please refer to https://wandb.me/wandb-core for more information.\n",
      "wandb: Currently logged in as: da24s006 (da24s006-indian-institue-of-technology-madras-) to https://api.wandb.ai. Use `wandb login --relogin` to force relogin\n"
     ]
    },
    {
     "data": {
      "text/plain": [
       "True"
      ]
     },
     "execution_count": 4,
     "metadata": {},
     "output_type": "execute_result"
    }
   ],
   "source": [
    "import wandb\n",
    "wandb.login()"
   ]
  },
  {
   "cell_type": "code",
   "execution_count": 5,
   "id": "787317cc-b28d-4c16-8bec-7c8ff2cac14e",
   "metadata": {
    "scrolled": true
   },
   "outputs": [
    {
     "data": {
      "text/html": [
       "Tracking run with wandb version 0.19.7"
      ],
      "text/plain": [
       "<IPython.core.display.HTML object>"
      ]
     },
     "metadata": {},
     "output_type": "display_data"
    },
    {
     "data": {
      "text/html": [
       "Run data is saved locally in <code>C:\\Users\\Ashutosh Patidar\\OneDrive\\Documents\\GitHub\\Assignment_1_Deep_Learning\\wandb\\run-20250306_211108-jiai6ano</code>"
      ],
      "text/plain": [
       "<IPython.core.display.HTML object>"
      ]
     },
     "metadata": {},
     "output_type": "display_data"
    },
    {
     "data": {
      "text/html": [
       "Syncing run <strong><a href='https://wandb.ai/da24s006-indian-institue-of-technology-madras-/Backprop_From_Scratch/runs/jiai6ano' target=\"_blank\">lilac-disco-4</a></strong> to <a href='https://wandb.ai/da24s006-indian-institue-of-technology-madras-/Backprop_From_Scratch' target=\"_blank\">Weights & Biases</a> (<a href='https://wandb.me/developer-guide' target=\"_blank\">docs</a>)<br>"
      ],
      "text/plain": [
       "<IPython.core.display.HTML object>"
      ]
     },
     "metadata": {},
     "output_type": "display_data"
    },
    {
     "data": {
      "text/html": [
       " View project at <a href='https://wandb.ai/da24s006-indian-institue-of-technology-madras-/Backprop_From_Scratch' target=\"_blank\">https://wandb.ai/da24s006-indian-institue-of-technology-madras-/Backprop_From_Scratch</a>"
      ],
      "text/plain": [
       "<IPython.core.display.HTML object>"
      ]
     },
     "metadata": {},
     "output_type": "display_data"
    },
    {
     "data": {
      "text/html": [
       " View run at <a href='https://wandb.ai/da24s006-indian-institue-of-technology-madras-/Backprop_From_Scratch/runs/jiai6ano' target=\"_blank\">https://wandb.ai/da24s006-indian-institue-of-technology-madras-/Backprop_From_Scratch/runs/jiai6ano</a>"
      ],
      "text/plain": [
       "<IPython.core.display.HTML object>"
      ]
     },
     "metadata": {},
     "output_type": "display_data"
    },
    {
     "data": {
      "text/html": [
       "<button onClick=\"this.nextSibling.style.display='block';this.style.display='none';\">Display W&B run</button><iframe src='https://wandb.ai/da24s006-indian-institue-of-technology-madras-/Backprop_From_Scratch/runs/jiai6ano?jupyter=true' style='border:none;width:100%;height:420px;display:none;'></iframe>"
      ],
      "text/plain": [
       "<wandb.sdk.wandb_run.Run at 0x1cbfc9d23c0>"
      ]
     },
     "execution_count": 5,
     "metadata": {},
     "output_type": "execute_result"
    }
   ],
   "source": [
    "wandb.init(project='Backprop_From_Scratch')"
   ]
  },
  {
   "cell_type": "code",
   "execution_count": 6,
   "id": "ef626169-8b15-4d9a-b291-f99be0e8acbf",
   "metadata": {},
   "outputs": [],
   "source": [
    "import matplotlib.pyplot as plt \n",
    "from keras.datasets import fashion_mnist\n",
    "(train_images, train_labels), (test_images, test_labels) = fashion_mnist.load_data()"
   ]
  },
  {
   "cell_type": "markdown",
   "id": "7512bae4-b67a-410a-86ba-5fd237cc63e7",
   "metadata": {
    "jp-MarkdownHeadingCollapsed": true
   },
   "source": [
    "#### Question 1(2 Marks):"
   ]
  },
  {
   "cell_type": "code",
   "execution_count": 16,
   "id": "ab56c078-c278-4fc0-818c-d2d2204d4128",
   "metadata": {},
   "outputs": [],
   "source": [
    "fashion_mnist_labels = {\n",
    "    0: \"T-shirt/top\",\n",
    "    1: \"Trouser\",\n",
    "    2: \"Pullover\",\n",
    "    3: \"Dress\",\n",
    "    4: \"Coat\",\n",
    "    5: \"Sandal\",\n",
    "    6: \"Shirt\",\n",
    "    7: \"Sneaker\",\n",
    "    8: \"Bag\",\n",
    "    9: \"Ankle boot\"\n",
    "}"
   ]
  },
  {
   "cell_type": "code",
   "execution_count": 20,
   "id": "7149b6f5-b38a-4dd6-912f-bab9a9b7b324",
   "metadata": {},
   "outputs": [
    {
     "data": {
      "text/html": [
       "Tracking run with wandb version 0.19.7"
      ],
      "text/plain": [
       "<IPython.core.display.HTML object>"
      ]
     },
     "metadata": {},
     "output_type": "display_data"
    },
    {
     "data": {
      "text/html": [
       "Run data is saved locally in <code>C:\\Users\\Ashutosh Patidar\\OneDrive\\Documents\\GitHub\\Assignment_1_Deep_Learning\\wandb\\run-20250306_212158-oeg7oaxd</code>"
      ],
      "text/plain": [
       "<IPython.core.display.HTML object>"
      ]
     },
     "metadata": {},
     "output_type": "display_data"
    },
    {
     "data": {
      "text/html": [
       "Syncing run <strong><a href='https://wandb.ai/da24s006-indian-institue-of-technology-madras-/backprop-from-scratch/runs/oeg7oaxd' target=\"_blank\">plot_unique_labels</a></strong> to <a href='https://wandb.ai/da24s006-indian-institue-of-technology-madras-/backprop-from-scratch' target=\"_blank\">Weights & Biases</a> (<a href='https://wandb.me/developer-guide' target=\"_blank\">docs</a>)<br>"
      ],
      "text/plain": [
       "<IPython.core.display.HTML object>"
      ]
     },
     "metadata": {},
     "output_type": "display_data"
    },
    {
     "data": {
      "text/html": [
       " View project at <a href='https://wandb.ai/da24s006-indian-institue-of-technology-madras-/backprop-from-scratch' target=\"_blank\">https://wandb.ai/da24s006-indian-institue-of-technology-madras-/backprop-from-scratch</a>"
      ],
      "text/plain": [
       "<IPython.core.display.HTML object>"
      ]
     },
     "metadata": {},
     "output_type": "display_data"
    },
    {
     "data": {
      "text/html": [
       " View run at <a href='https://wandb.ai/da24s006-indian-institue-of-technology-madras-/backprop-from-scratch/runs/oeg7oaxd' target=\"_blank\">https://wandb.ai/da24s006-indian-institue-of-technology-madras-/backprop-from-scratch/runs/oeg7oaxd</a>"
      ],
      "text/plain": [
       "<IPython.core.display.HTML object>"
      ]
     },
     "metadata": {},
     "output_type": "display_data"
    },
    {
     "data": {
      "image/png": "[encoded data removed]",
      "text/plain": [
       "<Figure size 400x200 with 10 Axes>"
      ]
     },
     "metadata": {},
     "output_type": "display_data"
    },
    {
     "data": {
      "text/html": [],
      "text/plain": [
       "<IPython.core.display.HTML object>"
      ]
     },
     "metadata": {},
     "output_type": "display_data"
    },
    {
     "data": {
      "text/html": [
       " View run <strong style=\"color:#cdcd00\">plot_unique_labels</strong> at: <a href='https://wandb.ai/da24s006-indian-institue-of-technology-madras-/backprop-from-scratch/runs/oeg7oaxd' target=\"_blank\">https://wandb.ai/da24s006-indian-institue-of-technology-madras-/backprop-from-scratch/runs/oeg7oaxd</a><br> View project at: <a href='https://wandb.ai/da24s006-indian-institue-of-technology-madras-/backprop-from-scratch' target=\"_blank\">https://wandb.ai/da24s006-indian-institue-of-technology-madras-/backprop-from-scratch</a><br>Synced 5 W&B file(s), 1 media file(s), 0 artifact file(s) and 0 other file(s)"
      ],
      "text/plain": [
       "<IPython.core.display.HTML object>"
      ]
     },
     "metadata": {},
     "output_type": "display_data"
    },
    {
     "data": {
      "text/html": [
       "Find logs at: <code>.\\wandb\\run-20250306_212158-oeg7oaxd\\logs</code>"
      ],
      "text/plain": [
       "<IPython.core.display.HTML object>"
      ]
     },
     "metadata": {},
     "output_type": "display_data"
    }
   ],
   "source": [
    "plotted, plot_no = [], 1\n",
    "plt.figure(figsize=(4, 2))\n",
    "\n",
    "# Initialize W&B run\n",
    "wandb.init(project=\"backprop-from-scratch\", name=\"plot_unique_labels\")\n",
    "for index, label in enumerate(train_labels): \n",
    "\n",
    "    if len(plotted) == len(set(train_labels)):\n",
    "        break\n",
    "        \n",
    "    if label not in plotted: \n",
    "        plt.subplot(2, 5, plot_no)\n",
    "        plt.imshow(train_images[index], cmap='grey')\n",
    "        plotted.append(label)\n",
    "        plt.title(f'{fashion_mnist_labels[label]}', fontsize=8)\n",
    "        plt.axis(\"off\")\n",
    "        plot_no += 1\n",
    "\n",
    "# getting the final figure\n",
    "fig = plt.gcf()\n",
    "\n",
    "#loggint the figure of wandb\n",
    "wandb.log({\"unique_labels_plot\": wandb.Image(fig)})\n",
    "\n",
    "plt.show()\n",
    "wandb.finish()"
   ]
  },
  {
   "cell_type": "markdown",
   "id": "5507f7bc-2fca-4c5b-877d-fcde8c3d8f47",
   "metadata": {
    "jp-MarkdownHeadingCollapsed": true
   },
   "source": [
    "#### Question 2(10 Marks):"
   ]
  },
  {
   "cell_type": "code",
   "execution_count": 517,
   "id": "c786be43-3f28-48fe-ab62-b6ee025a7ec4",
   "metadata": {},
   "outputs": [],
   "source": [
    "import numpy as np \n",
    "\n",
    "# defining a backprop_from_scratch to do all.\n",
    "class backprop_from_scratch:\n",
    "\n",
    "    # define constructor\n",
    "    def __init__(self, layer_size):\n",
    "        # initialise the neural network\n",
    "        self.weights, self.biases = [], []\n",
    "        self.num_layers = len(layer_size)\n",
    "        self.layer_sizes = layer_size\n",
    "        self.initialize_params()\n",
    "        \n",
    "    def initialize_params(self):\n",
    "        # let's use He initialization for weights and set values of bias equals to zero\n",
    "        for i in range(self.num_layers-1):\n",
    "            w = np.random.randn(self.layer_sizes[i], self.layer_sizes[i+1]) * np.sqrt(2/self.layer_sizes[i])\n",
    "            b = np.zeros((1, self.layer_sizes[i+1]))\n",
    "            self.weights.append(w) \n",
    "            self.biases.append(b) \n",
    "            \n",
    "    def forward_pass(self, data_X):\n",
    "        neuron_outputs = [data_X]\n",
    "        # pass thorugh hidden layers\n",
    "        for i in range(self.num_layers - 2): \n",
    "            \n",
    "            # print(\"ran\")\n",
    "            # print(neuron_outputs[-1].shape)\n",
    "            # print(self.weights[i].shape)\n",
    "            # print(self.biases[i].shape)\n",
    "            \n",
    "            a = np.dot(neuron_outputs[-1], self.weights[i]) + self.biases[i]\n",
    "            h = self.sigmoid(a)\n",
    "            neuron_outputs.append(h)\n",
    "        # pass thorugh the output layer\n",
    "        a = np.dot(neuron_outputs[-1], self.weights[-1]) + self.biases[-1]\n",
    "        output = self.softmax(a)\n",
    "        neuron_outputs.append(output)\n",
    "        return neuron_outputs\n",
    "\n",
    "    def sigmoid(self, X):\n",
    "        # clipping it bw -500 to 500 \n",
    "        return 1 / (1 + np.exp(-np.clip(X, -500, 500)))\n",
    "    \n",
    "    def sigmoid_derivative(self, x):\n",
    "        return x*(1-x) \n",
    "        \n",
    "    def softmax(self, X): \n",
    "        # clipping it for numerical stability\n",
    "        exp_x = np.exp(X - np.max(X, axis = 1, keepdims=True))\n",
    "        return exp_x/np.sum(exp_x, axis = 1, keepdims=True)\n",
    "    \n",
    "    def backword_pass(self, X, y, neuron_outputs, learning_rate):\n",
    "        \n",
    "        # compute the gradient at given value of params\n",
    "        batch_size = len(X)\n",
    "        \n",
    "        # computing gradies with repect to the output layer \n",
    "        delta = neuron_outputs[-1] - y\n",
    "        \n",
    "        # computing gradient with respect to hidden layers\n",
    "        for i in range(self.num_layers - 2, -1, -1):\n",
    "            \n",
    "            dw = np.dot(neuron_outputs[i].T, delta) / batch_size\n",
    "            db = np.sum(delta, axis=0, keepdims=True) / batch_size\n",
    "            \n",
    "            if i>0: # because computing delta for i=0 will be absolutely un-necessary.\n",
    "                delta = np.dot(delta, self.weights[i].T) * self.sigmoid_derivative(neuron_outputs[i])\n",
    "\n",
    "            # making an update\n",
    "            self.weights[i] -= dw * learning_rate\n",
    "            self.biases[i] -= db * learning_rate\n",
    "        \n",
    "    # function to train the network\n",
    "    def train(self, X_train, y_train, X_val, y_val, epochs, learning_rate, batch_size):\n",
    "        for epoch in range(epochs): \n",
    "            # first shuffle the training data\n",
    "            # print(X_train.shape[0])\n",
    "            \n",
    "            indices = np.random.permutation(X_train.shape[0]) \n",
    "            X_train_permuted = X_train[indices]\n",
    "            y_train_permuted = y_train[indices]\n",
    "            \n",
    "            total_loss = 0\n",
    "            batch_num = 0\n",
    "            \n",
    "            # let's make a update for a mini batch\n",
    "            for i in range(0, X_train.shape[0], batch_size): \n",
    "                batch_x = X_train_permuted[i: i + batch_size]\n",
    "                batch_y = y_train_permuted[i: i + batch_size]\n",
    "                neuron_outputs = self.forward_pass(batch_x)\n",
    "                loss = -np.mean(np.sum(batch_y * np.log(neuron_outputs[-1] + 1e-10), axis = 1)) # to prevent numerical underflow\n",
    "                total_loss += loss\n",
    "                batch_num += 1\n",
    "                self.backword_pass(batch_x, batch_y, neuron_outputs, learning_rate)\n",
    "            \n",
    "            average_loss = total_loss/batch_num\n",
    "            \n",
    "            # now let's make predictions on validation dataset \n",
    "            validation_predictions = self.predict(X_val)\n",
    "            validation_accuracy = np.mean(validation_predictions == np.argmax(y_val, axis = 1))\n",
    "\n",
    "            # loging to wandb\n",
    "            wandb.log({'epoch': epoch , 'train_loss': average_loss, 'val_accuracy': validation_accuracy})\n",
    "            print(f\"epoch: {epoch}, train_loss:{average_loss:.4f}, val_accuracy: {validation_accuracy:.4f}\")\n",
    "            \n",
    "    def predict(self, X): \n",
    "        # this will predict class labels for the passed data\n",
    "        neuron_outputs = self.forward_pass(X)\n",
    "        return np.argmax(neuron_outputs[-1], axis=1)\n",
    "    "
   ]
  },
  {
   "cell_type": "code",
   "execution_count": 159,
   "id": "0021f582-d6b0-4fbc-af70-b8601b88346d",
   "metadata": {},
   "outputs": [],
   "source": [
    "# making the data ready to train the model\n",
    "\n",
    "# Splitting the trainig data into train and validation\n",
    "\n",
    "indices = np.arange(train_images.shape[0])\n",
    "np.random.shuffle(indices)\n",
    "train_size = 50000\n",
    "train_x = train_images[indices[:train_size]]\n",
    "train_y = train_labels[indices[:train_size]]\n",
    "val_x = train_images[indices[train_size:]]\n",
    "val_y = train_labels[indices[train_size:]]\n",
    "\n",
    "train_x = train_x.reshape(train_x.shape[0], -1)\n",
    "val_x = val_x.reshape(val_x.shape[0], -1)\n",
    "\n",
    "# train_x.ravel()\n",
    "# val_y.ravel()\n",
    "\n",
    "# converting y's into one hot vector\n",
    "num_classes = 10\n",
    "train_y = np.eye(num_classes)[train_y]\n",
    "val_y = np.eye(num_classes)[val_y]\n",
    "\n",
    "# let's do it for test data as well\n",
    "test_images = test_images.reshape(test_images.shape[0], -1)\n",
    "test_labels = np.eye(num_classes)[test_labels]"
   ]
  },
  {
   "cell_type": "code",
   "execution_count": 521,
   "id": "6956e596-cb08-4165-a3c6-e7233347af42",
   "metadata": {},
   "outputs": [
    {
     "data": {
      "text/html": [
       "<button onClick=\"this.nextSibling.style.display='block';this.style.display='none';\">Display W&B run</button><iframe src='https://wandb.ai/da24s006-indian-institue-of-technology-madras-/backprop_scratch/runs/cj4wa5mn?jupyter=true' style='border:none;width:100%;height:420px;display:none;'></iframe>"
      ],
      "text/plain": [
       "<wandb.sdk.wandb_run.Run at 0x2a9061f0890>"
      ]
     },
     "execution_count": 521,
     "metadata": {},
     "output_type": "execute_result"
    }
   ],
   "source": [
    "# initializing hyperparms in wandb\n",
    "wandb.init(project='backprop_scratch', \n",
    "           config={ 'Learning_rate' : 0.001, \n",
    "                    'epochs' : 50, \n",
    "                    'batch_size' : 32, \n",
    "                    'layer_size' : [784, 128, 64, 10]})"
   ]
  },
  {
   "cell_type": "code",
   "execution_count": 523,
   "id": "478a84ac-1300-4a9f-9651-fd5b9957be9f",
   "metadata": {},
   "outputs": [
    {
     "name": "stdout",
     "output_type": "stream",
     "text": [
      "{'Learning_rate': 0.001, 'epochs': 50, 'batch_size': 32, 'layer_size': [784, 128, 64, 10]}\n"
     ]
    }
   ],
   "source": [
    "print(wandb.config)"
   ]
  },
  {
   "cell_type": "code",
   "execution_count": 525,
   "id": "accc57be-f35a-4af8-9f6c-8a1bce905e83",
   "metadata": {},
   "outputs": [
    {
     "name": "stdout",
     "output_type": "stream",
     "text": [
      "epoch: 0, train_loss:2.0760, val_accuracy: 0.5380\n",
      "epoch: 1, train_loss:1.7583, val_accuracy: 0.6070\n",
      "epoch: 2, train_loss:1.5751, val_accuracy: 0.6683\n",
      "epoch: 3, train_loss:1.4275, val_accuracy: 0.6889\n",
      "epoch: 4, train_loss:1.3024, val_accuracy: 0.7123\n",
      "epoch: 5, train_loss:1.1972, val_accuracy: 0.7220\n",
      "epoch: 6, train_loss:1.1085, val_accuracy: 0.7334\n",
      "epoch: 7, train_loss:1.0324, val_accuracy: 0.7481\n",
      "epoch: 8, train_loss:0.9685, val_accuracy: 0.7574\n",
      "epoch: 9, train_loss:0.9135, val_accuracy: 0.7640\n",
      "epoch: 10, train_loss:0.8666, val_accuracy: 0.7711\n",
      "epoch: 11, train_loss:0.8257, val_accuracy: 0.7819\n",
      "epoch: 12, train_loss:0.7904, val_accuracy: 0.7832\n",
      "epoch: 13, train_loss:0.7597, val_accuracy: 0.7908\n",
      "epoch: 14, train_loss:0.7315, val_accuracy: 0.7936\n",
      "epoch: 15, train_loss:0.7079, val_accuracy: 0.7939\n",
      "epoch: 16, train_loss:0.6854, val_accuracy: 0.8016\n",
      "epoch: 17, train_loss:0.6657, val_accuracy: 0.8017\n",
      "epoch: 18, train_loss:0.6471, val_accuracy: 0.8044\n",
      "epoch: 19, train_loss:0.6320, val_accuracy: 0.8069\n",
      "epoch: 20, train_loss:0.6161, val_accuracy: 0.8092\n",
      "epoch: 21, train_loss:0.6028, val_accuracy: 0.8090\n",
      "epoch: 22, train_loss:0.5904, val_accuracy: 0.8116\n",
      "epoch: 23, train_loss:0.5782, val_accuracy: 0.8125\n",
      "epoch: 24, train_loss:0.5684, val_accuracy: 0.8171\n",
      "epoch: 25, train_loss:0.5585, val_accuracy: 0.8212\n",
      "epoch: 26, train_loss:0.5496, val_accuracy: 0.8192\n",
      "epoch: 27, train_loss:0.5405, val_accuracy: 0.8198\n",
      "epoch: 28, train_loss:0.5330, val_accuracy: 0.8222\n",
      "epoch: 29, train_loss:0.5258, val_accuracy: 0.8245\n",
      "epoch: 30, train_loss:0.5190, val_accuracy: 0.8276\n",
      "epoch: 31, train_loss:0.5111, val_accuracy: 0.8246\n",
      "epoch: 32, train_loss:0.5065, val_accuracy: 0.8245\n",
      "epoch: 33, train_loss:0.5024, val_accuracy: 0.8261\n",
      "epoch: 34, train_loss:0.4958, val_accuracy: 0.8300\n",
      "epoch: 35, train_loss:0.4886, val_accuracy: 0.8276\n",
      "epoch: 36, train_loss:0.4854, val_accuracy: 0.8340\n",
      "epoch: 37, train_loss:0.4799, val_accuracy: 0.8305\n",
      "epoch: 38, train_loss:0.4754, val_accuracy: 0.8309\n",
      "epoch: 39, train_loss:0.4705, val_accuracy: 0.8330\n",
      "epoch: 40, train_loss:0.4665, val_accuracy: 0.8320\n",
      "epoch: 41, train_loss:0.4645, val_accuracy: 0.8325\n",
      "epoch: 42, train_loss:0.4608, val_accuracy: 0.8351\n",
      "epoch: 43, train_loss:0.4547, val_accuracy: 0.8349\n",
      "epoch: 44, train_loss:0.4547, val_accuracy: 0.8382\n",
      "epoch: 45, train_loss:0.4532, val_accuracy: 0.8369\n",
      "epoch: 46, train_loss:0.4481, val_accuracy: 0.8366\n",
      "epoch: 47, train_loss:0.4426, val_accuracy: 0.8386\n",
      "epoch: 48, train_loss:0.4407, val_accuracy: 0.8373\n",
      "epoch: 49, train_loss:0.4401, val_accuracy: 0.8384\n",
      "test_accuracy: 0.8283\n"
     ]
    }
   ],
   "source": [
    "\n",
    "config = wandb.config\n",
    "\n",
    "# now let's create and train the network\n",
    "model = backprop_from_scratch(config.layer_size)\n",
    "\n",
    "model.train(train_x, train_y, val_x, val_y, config.epochs, config.Learning_rate, config.batch_size)\n",
    "\n"
   ]
  },
  {
   "cell_type": "code",
   "execution_count": null,
   "id": "4cb8b169-a595-4675-8738-92de53c0f255",
   "metadata": {},
   "outputs": [],
   "source": [
    "# now let's evaluate on the test set\n",
    "test_predictions = model.predict(test_images) \n",
    "test_accuracy = np.mean(test_predictions == np.argmax(test_labels, axis = 1))\n",
    "print(f\"test_accuracy:{test_accuracy: .4f}\") \n",
    "wandb.log({'test_accuracy': test_accuracy})"
   ]
  },
  {
   "cell_type": "markdown",
   "id": "83794a88-f0d8-4108-a61d-0da7a1a530cd",
   "metadata": {},
   "source": [
    "**Question 3(24 Marks):**"
   ]
  },
  {
   "cell_type": "markdown",
   "id": "cae5a63c-7432-498c-94c6-0bd93941a87f",
   "metadata": {
    "jp-MarkdownHeadingCollapsed": true
   },
   "source": [
    "#### Optimization algorithms to implement:"
   ]
  },
  {
   "cell_type": "markdown",
   "id": "f361b770-947c-47aa-b054-a72c3a241323",
   "metadata": {},
   "source": [
    "- **sgd:** make update with respect to a batch of the datapoints.\n",
    "- **momentum based gradient descent:** will make an update using momentum at each step.\n",
    "- **nestrov accelerated gradient descent:** why not to move a little based of momentum we've.\n",
    "- **rms prop:** make learning rate inversly prop to expnentionally accumulating update histroy in that particular direction.\n",
    "- **adam:**\n",
    "- **nadam:**"
   ]
  },
  {
   "cell_type": "markdown",
   "id": "86a9ce1f-8a8e-460b-a35b-943fa9af18c7",
   "metadata": {
    "jp-MarkdownHeadingCollapsed": true
   },
   "source": [
    "#### vanila gradient descent\n",
    "\n"
   ]
  },
  {
   "cell_type": "code",
   "execution_count": 174,
   "id": "853e7e01-66ea-4a6a-88f2-d7435820a94e",
   "metadata": {},
   "outputs": [],
   "source": [
    "import numpy as np \n",
    "\n",
    "# defining a backprop_from_scratch to do all.\n",
    "class backprop_from_scratch:\n",
    "\n",
    "    # define constructor\n",
    "    def __init__(self, layer_size):\n",
    "        # initialise the neural network\n",
    "        self.weights, self.biases = [], []\n",
    "        self.num_layers = len(layer_size)\n",
    "        self.layer_sizes = layer_size\n",
    "        self.initialize_params()\n",
    "        \n",
    "    def initialize_params(self):\n",
    "        # let's use He initialization for weights and set values of bias equals to zero\n",
    "        for i in range(self.num_layers-1):\n",
    "            w = np.random.randn(self.layer_sizes[i], self.layer_sizes[i+1]) * np.sqrt(2/self.layer_sizes[i])\n",
    "            b = np.zeros((1, self.layer_sizes[i+1]))\n",
    "            self.weights.append(w) \n",
    "            self.biases.append(b) \n",
    "            \n",
    "    def forward_pass(self, data_X):\n",
    "        neuron_outputs = [data_X]\n",
    "        # pass thorugh hidden layers\n",
    "        for i in range(self.num_layers - 2): \n",
    "            \n",
    "            # print(\"ran\")\n",
    "            # print(neuron_outputs[-1].shape)\n",
    "            # print(self.weights[i].shape)\n",
    "            # print(self.biases[i].shape)\n",
    "            \n",
    "            a = np.dot(neuron_outputs[-1], self.weights[i]) + self.biases[i]\n",
    "            h = self.sigmoid(a)\n",
    "            neuron_outputs.append(h)\n",
    "        # pass thorugh the output layer\n",
    "        a = np.dot(neuron_outputs[-1], self.weights[-1]) + self.biases[-1]\n",
    "        output = self.softmax(a)\n",
    "        neuron_outputs.append(output)\n",
    "        return neuron_outputs\n",
    "\n",
    "    def sigmoid(self, X):\n",
    "        # clipping it bw -500 to 500 \n",
    "        return 1 / (1 + np.exp(-np.clip(X, -500, 500)))\n",
    "    \n",
    "    def sigmoid_derivative(self, x):\n",
    "        return x*(1-x) \n",
    "        \n",
    "    def softmax(self, X): \n",
    "        # clipping it for numerical stability\n",
    "        exp_x = np.exp(X - np.max(X, axis = 1, keepdims=True))\n",
    "        return exp_x/np.sum(exp_x, axis = 1, keepdims=True)\n",
    "    \n",
    "    def backword_pass(self, X, y, neuron_outputs, learning_rate):\n",
    "        \n",
    "        # compute the gradient at given value of params\n",
    "        batch_size = len(X)\n",
    "        \n",
    "        # computing gradies with repect to the output layer \n",
    "        delta = neuron_outputs[-1] - y\n",
    "        \n",
    "        # computing gradient with respect to hidden layers\n",
    "        for i in range(self.num_layers - 2, -1, -1):\n",
    "            \n",
    "            dw = np.dot(neuron_outputs[i].T, delta) / batch_size\n",
    "            db = np.sum(delta, axis=0, keepdims=True) / batch_size\n",
    "            \n",
    "            if i>0: # because computing delta for i=0 will be absolutely un-necessary.\n",
    "                delta = np.dot(delta, self.weights[i].T) * self.sigmoid_derivative(neuron_outputs[i])\n",
    "\n",
    "            # making an update\n",
    "            self.weights[i] -= dw * learning_rate\n",
    "            self.biases[i] -= db * learning_rate\n",
    "        \n",
    "    # function to train the network\n",
    "    def train(self, X_train, y_train, X_val, y_val, epochs, learning_rate, batch_size):\n",
    "        for epoch in range(epochs): \n",
    "            # first shuffle the training data\n",
    "            # print(X_train.shape[0])\n",
    "            \n",
    "            indices = np.random.permutation(X_train.shape[0]) \n",
    "            X_train_permuted = X_train[indices]\n",
    "            y_train_permuted = y_train[indices]\n",
    "            \n",
    "            total_loss = 0\n",
    "            batch_num = 0\n",
    "            \n",
    "            # let's make a update for a mini batch\n",
    "            for i in range(0, X_train.shape[0], batch_size): \n",
    "                batch_x = X_train_permuted[i: i + batch_size]\n",
    "                batch_y = y_train_permuted[i: i + batch_size]\n",
    "                neuron_outputs = self.forward_pass(batch_x)\n",
    "                loss = -np.mean(np.sum(batch_y * np.log(neuron_outputs[-1] + 1e-10), axis = 1)) # to prevent numerical underflow\n",
    "                total_loss += loss\n",
    "                batch_num += 1\n",
    "                self.backword_pass(batch_x, batch_y, neuron_outputs, learning_rate)\n",
    "            \n",
    "            average_loss = total_loss/batch_num\n",
    "            \n",
    "            # now let's make predictions on validation dataset \n",
    "            validation_predictions = self.predict(X_val)\n",
    "            validation_accuracy = np.mean(validation_predictions == np.argmax(y_val, axis = 1))\n",
    "\n",
    "            # loging to wandb\n",
    "            wandb.log({'epoch': epoch , 'train_loss': average_loss, 'val_accuracy': validation_accuracy})\n",
    "            print(f\"epoch: {epoch}, train_loss:{average_loss:.4f}, val_accuracy: {validation_accuracy:.4f}\")\n",
    "            \n",
    "    def predict(self, X): \n",
    "        # this will predict class labels for the passed data\n",
    "        neuron_outputs = self.forward_pass(X)\n",
    "        return np.argmax(neuron_outputs[-1], axis=1)\n",
    "    "
   ]
  },
  {
   "cell_type": "code",
   "execution_count": 197,
   "id": "9e37e87e-f499-41a6-ae05-71d64ed8fe85",
   "metadata": {},
   "outputs": [
    {
     "name": "stdout",
     "output_type": "stream",
     "text": [
      "{'Learning_rate': 0.5, 'epochs': 50, 'batch_size': 50000, 'layer_size': [784, 128, 64, 10]}\n"
     ]
    }
   ],
   "source": [
    "# initializing hyperparms in wandb\n",
    "wandb.init(project='vanilla_gradient_descent', \n",
    "           config={ 'Learning_rate' : 0.01, \n",
    "                    'epochs' : 50000, \n",
    "                    'batch_size' : 32, \n",
    "                    'layer_size' : [784, 128, 64, 10]})\n",
    "config.Learning_rate = 0.5\n",
    "print(wandb.config)"
   ]
  },
  {
   "cell_type": "code",
   "execution_count": 199,
   "id": "41126661-f67a-4620-9fb7-c217865fc50f",
   "metadata": {},
   "outputs": [
    {
     "name": "stdout",
     "output_type": "stream",
     "text": [
      "50000\n",
      "epoch: 0, train_loss:2.5263, val_accuracy: 0.1755\n",
      "epoch: 1, train_loss:2.1899, val_accuracy: 0.3493\n",
      "epoch: 2, train_loss:2.0400, val_accuracy: 0.4653\n",
      "epoch: 3, train_loss:1.9601, val_accuracy: 0.4679\n",
      "epoch: 4, train_loss:1.8783, val_accuracy: 0.5827\n",
      "epoch: 5, train_loss:1.8046, val_accuracy: 0.4852\n",
      "epoch: 6, train_loss:1.7489, val_accuracy: 0.5587\n",
      "epoch: 7, train_loss:1.7054, val_accuracy: 0.4694\n",
      "epoch: 8, train_loss:1.6741, val_accuracy: 0.5997\n",
      "epoch: 9, train_loss:1.6056, val_accuracy: 0.5574\n",
      "epoch: 10, train_loss:1.5576, val_accuracy: 0.5615\n",
      "epoch: 11, train_loss:1.5438, val_accuracy: 0.5261\n",
      "epoch: 12, train_loss:1.5140, val_accuracy: 0.5946\n",
      "epoch: 13, train_loss:1.4517, val_accuracy: 0.5943\n",
      "epoch: 14, train_loss:1.3844, val_accuracy: 0.6291\n",
      "epoch: 15, train_loss:1.3447, val_accuracy: 0.6087\n",
      "epoch: 16, train_loss:1.3231, val_accuracy: 0.6265\n",
      "epoch: 17, train_loss:1.2831, val_accuracy: 0.6410\n",
      "epoch: 18, train_loss:1.2440, val_accuracy: 0.6360\n",
      "epoch: 19, train_loss:1.2199, val_accuracy: 0.6514\n",
      "epoch: 20, train_loss:1.1843, val_accuracy: 0.6573\n",
      "epoch: 21, train_loss:1.1541, val_accuracy: 0.6673\n",
      "epoch: 22, train_loss:1.1446, val_accuracy: 0.6276\n",
      "epoch: 23, train_loss:1.1493, val_accuracy: 0.6191\n",
      "epoch: 24, train_loss:1.2014, val_accuracy: 0.5493\n",
      "epoch: 25, train_loss:1.2749, val_accuracy: 0.4979\n",
      "epoch: 26, train_loss:1.3579, val_accuracy: 0.5444\n",
      "epoch: 27, train_loss:1.2525, val_accuracy: 0.5946\n",
      "epoch: 28, train_loss:1.1965, val_accuracy: 0.6551\n",
      "epoch: 29, train_loss:1.0867, val_accuracy: 0.7095\n",
      "epoch: 30, train_loss:1.0070, val_accuracy: 0.7108\n",
      "epoch: 31, train_loss:0.9751, val_accuracy: 0.7285\n",
      "epoch: 32, train_loss:0.9512, val_accuracy: 0.7207\n",
      "epoch: 33, train_loss:0.9362, val_accuracy: 0.7392\n",
      "epoch: 34, train_loss:0.9216, val_accuracy: 0.7221\n",
      "epoch: 35, train_loss:0.9148, val_accuracy: 0.7412\n",
      "epoch: 36, train_loss:0.9078, val_accuracy: 0.7162\n",
      "epoch: 37, train_loss:0.9091, val_accuracy: 0.7273\n",
      "epoch: 38, train_loss:0.9005, val_accuracy: 0.7101\n",
      "epoch: 39, train_loss:0.9077, val_accuracy: 0.7309\n",
      "epoch: 40, train_loss:0.8893, val_accuracy: 0.7005\n",
      "epoch: 41, train_loss:0.8934, val_accuracy: 0.7401\n",
      "epoch: 42, train_loss:0.8689, val_accuracy: 0.7213\n",
      "epoch: 43, train_loss:0.8603, val_accuracy: 0.7526\n",
      "epoch: 44, train_loss:0.8477, val_accuracy: 0.7210\n",
      "epoch: 45, train_loss:0.8547, val_accuracy: 0.7463\n",
      "epoch: 46, train_loss:0.8403, val_accuracy: 0.7059\n",
      "epoch: 47, train_loss:0.8525, val_accuracy: 0.7478\n",
      "epoch: 48, train_loss:0.8388, val_accuracy: 0.6935\n",
      "epoch: 49, train_loss:0.8437, val_accuracy: 0.7247\n"
     ]
    }
   ],
   "source": [
    "\n",
    "config = wandb.config\n",
    "\n",
    "# now let's create and train the network\n",
    "model = backprop_from_scratch(config.layer_size)\n",
    "\n",
    "print(config.batch_size)\n",
    "# passing batch size = size of the data\n",
    "model.train(train_x, train_y, val_x, val_y, config.epochs, config.Learning_rate, config.batch_size)\n",
    "\n"
   ]
  },
  {
   "cell_type": "code",
   "execution_count": 201,
   "id": "d1b625b3-4aa4-4df3-9ae4-bd79844d2730",
   "metadata": {},
   "outputs": [
    {
     "name": "stdout",
     "output_type": "stream",
     "text": [
      "test_accuracy: 0.7174\n"
     ]
    }
   ],
   "source": [
    "# now let's evaluate on the test set\n",
    "test_predictions = model.predict(test_images) \n",
    "test_accuracy = np.mean(test_predictions == np.argmax(test_labels, axis = 1))\n",
    "print(f\"test_accuracy:{test_accuracy: .4f}\") \n",
    "wandb.log({'test_accuracy': test_accuracy})"
   ]
  },
  {
   "cell_type": "markdown",
   "id": "6f9c0ce6-f14c-4192-8a48-b68191abf459",
   "metadata": {
    "jp-MarkdownHeadingCollapsed": true
   },
   "source": [
    "#### momentum based sgd"
   ]
  },
  {
   "cell_type": "code",
   "execution_count": 150,
   "id": "32d8d8f0",
   "metadata": {},
   "outputs": [],
   "source": [
    "# converted the same code for sgd for momentum sgd\n",
    "\n",
    " \n",
    "import numpy as np \n",
    "\n",
    "# defining a backprop_from_scratch to do all.\n",
    "class backprop_from_scratch:\n",
    "\n",
    "    # define constructor\n",
    "    def __init__(self, layer_size):\n",
    "        \n",
    "        # initialise the neural network\n",
    "        self.weights, self.biases = [], []\n",
    "        self.num_layers = len(layer_size)\n",
    "        self.layer_sizes = layer_size\n",
    "        self.initialize_params()\n",
    "\n",
    "        # delarin and initializing the velocity for weights and bias\n",
    "        self.weights_velocity = []\n",
    "        self.bias_velocity = []\n",
    "\n",
    "        self.weights_velocity = [np.zeros_like(w) for w in self.weights]\n",
    "        self.bias_velocity = [np.zeros_like(b) for b in self.biases]\n",
    "\n",
    "        # parameter of momentum\n",
    "        self.beta = 0.90\n",
    "\n",
    "    \n",
    "    def initialize_params(self):\n",
    "        # let's use He initialization for weights and set values of bias equals to zero\n",
    "        for i in range(self.num_layers-1):\n",
    "            w = np.random.randn(self.layer_sizes[i], self.layer_sizes[i+1]) * np.sqrt(2/self.layer_sizes[i])\n",
    "            b = np.zeros((1, self.layer_sizes[i+1]))\n",
    "            self.weights.append(w) \n",
    "            self.biases.append(b) \n",
    "            \n",
    "    def forward_pass(self, data_X):\n",
    "        neuron_outputs = [data_X]\n",
    "        # pass thorugh hidden layers\n",
    "        for i in range(self.num_layers - 2): \n",
    "            \n",
    "            # print(\"ran\")\n",
    "            # print(neuron_outputs[-1].shape)\n",
    "            # print(self.weights[i].shape)\n",
    "            # print(self.biases[i].shape)\n",
    "            \n",
    "            a = np.dot(neuron_outputs[-1], self.weights[i]) + self.biases[i]\n",
    "            h = self.sigmoid(a)\n",
    "            neuron_outputs.append(h)\n",
    "        # pass thorugh the output layer\n",
    "        a = np.dot(neuron_outputs[-1], self.weights[-1]) + self.biases[-1]\n",
    "        output = self.softmax(a)\n",
    "        neuron_outputs.append(output)\n",
    "        return neuron_outputs\n",
    "\n",
    "    def sigmoid(self, X):\n",
    "        # clipping it bw -500 to 500 \n",
    "        return 1 / (1 + np.exp(-np.clip(X, -500, 500)))\n",
    "    \n",
    "    def sigmoid_derivative(self, x):\n",
    "        return x*(1-x) \n",
    "        \n",
    "    def softmax(self, X): \n",
    "        # clipping it for numerical stability\n",
    "        exp_x = np.exp(X - np.max(X, axis = 1, keepdims=True))\n",
    "        return exp_x/np.sum(exp_x, axis = 1, keepdims=True)\n",
    "    \n",
    "    def backword_pass(self, X, y, neuron_outputs, learning_rate):\n",
    "        \n",
    "        # compute the gradient at given value of params\n",
    "        batch_size = len(X)\n",
    "        \n",
    "        # computing gradies with repect to the output layer \n",
    "        delta = neuron_outputs[-1] - y\n",
    "        \n",
    "        # computing gradient with respect to hidden layers\n",
    "        for i in range(self.num_layers - 2, -1, -1):\n",
    "            \n",
    "            dw = np.dot(neuron_outputs[i].T, delta) / batch_size\n",
    "            db = np.sum(delta, axis=0, keepdims=True) / batch_size\n",
    "            \n",
    "            if i>0: # because computing delta for i=0 will be absolutely un-necessary.\n",
    "                delta = np.dot(delta, self.weights[i].T) * self.sigmoid_derivative(neuron_outputs[i])\n",
    "\n",
    "            # computing the momentum\n",
    "            self.weights_velocity[i] = self.beta * self.weights_velocity[i] + dw\n",
    "            self.bias_velocity[i] = self.beta * self.bias_velocity[i] + db\n",
    "\n",
    "            # making an update\n",
    "            self.weights[i] -= self.weights_velocity[i] * learning_rate\n",
    "            self.biases[i] -= self.bias_velocity[i] * learning_rate\n",
    "\n",
    "    # function to train the network\n",
    "    def train(self, X_train, y_train, X_val, y_val, epochs, learning_rate, batch_size):\n",
    "\n",
    "        weights_velocity, bias_velocity, beta = 0, 0, 0.95\n",
    "        for epoch in range(epochs): \n",
    "            # First shuffle the training data\n",
    "            # print(X_train.shape[0])\n",
    "            \n",
    "            indices = np.random.permutation(X_train.shape[0]) \n",
    "            X_train_permuted = X_train[indices]\n",
    "            y_train_permuted = y_train[indices]\n",
    "            \n",
    "            total_loss = 0\n",
    "            batch_num = 0\n",
    "            \n",
    "            # let's make a update for a mini batch\n",
    "            for i in range(0, X_train.shape[0], batch_size): \n",
    "                batch_x = X_train_permuted[i: i + batch_size]\n",
    "                batch_y = y_train_permuted[i: i + batch_size]\n",
    "                neuron_outputs = self.forward_pass(batch_x)\n",
    "                loss = -np.mean(np.sum(batch_y * np.log(neuron_outputs[-1] + 1e-10), axis = 1)) # to prevent numberical underflow\n",
    "                total_loss += loss\n",
    "                batch_num += 1\n",
    "                self.backword_pass(batch_x, batch_y, neuron_outputs, learning_rate)\n",
    "            \n",
    "            average_loss = total_loss/batch_num\n",
    "            \n",
    "            # now let's make predictions on validation dataset \n",
    "            validation_predictions = self.predict(X_val)\n",
    "            validation_accuracy = np.mean(validation_predictions == np.argmax(y_val, axis = 1))\n",
    "\n",
    "            # loging to wandb\n",
    "            wandb.log({'epoch': epoch , 'train_loss': average_loss, 'val_accuracy': validation_accuracy})\n",
    "            print(f\"epoch: {epoch}, train_loss:{average_loss:.4f}, val_accuracy: {validation_accuracy:.4f}\")\n",
    "            \n",
    "    def predict(self, X): \n",
    "        # this will predict class labels for the passed data\n",
    "        neuron_outputs = self.forward_pass(X)\n",
    "        return np.argmax(neuron_outputs[-1], axis=1)\n",
    "    "
   ]
  },
  {
   "cell_type": "code",
   "execution_count": 152,
   "id": "5bb5770b-66c7-490b-9d10-b1d3514dd9dd",
   "metadata": {},
   "outputs": [
    {
     "name": "stdout",
     "output_type": "stream",
     "text": [
      "{'Learning_rate': 0.001, 'epochs': 50, 'batch_size': 32, 'layer_size': [784, 128, 64, 10]}\n",
      "epoch: 0, train_loss:1.4112, val_accuracy: 0.7204\n",
      "epoch: 1, train_loss:0.8460, val_accuracy: 0.7577\n",
      "epoch: 2, train_loss:0.7022, val_accuracy: 0.7636\n",
      "epoch: 3, train_loss:0.6540, val_accuracy: 0.7860\n",
      "epoch: 4, train_loss:0.6333, val_accuracy: 0.7882\n",
      "epoch: 5, train_loss:0.6228, val_accuracy: 0.7847\n",
      "epoch: 6, train_loss:0.6147, val_accuracy: 0.7978\n",
      "epoch: 7, train_loss:0.6110, val_accuracy: 0.7903\n",
      "epoch: 8, train_loss:0.6089, val_accuracy: 0.7949\n",
      "epoch: 9, train_loss:0.5990, val_accuracy: 0.7893\n",
      "epoch: 10, train_loss:0.6107, val_accuracy: 0.7803\n",
      "epoch: 11, train_loss:0.6105, val_accuracy: 0.7844\n",
      "epoch: 12, train_loss:0.6037, val_accuracy: 0.7792\n",
      "epoch: 13, train_loss:0.5969, val_accuracy: 0.7907\n",
      "epoch: 14, train_loss:0.5965, val_accuracy: 0.7779\n",
      "epoch: 15, train_loss:0.6075, val_accuracy: 0.7869\n",
      "epoch: 16, train_loss:0.6169, val_accuracy: 0.7813\n",
      "epoch: 17, train_loss:0.6178, val_accuracy: 0.7818\n",
      "epoch: 18, train_loss:0.6072, val_accuracy: 0.7991\n",
      "epoch: 19, train_loss:0.6172, val_accuracy: 0.7947\n",
      "epoch: 20, train_loss:0.6071, val_accuracy: 0.7905\n",
      "epoch: 21, train_loss:0.5928, val_accuracy: 0.7886\n",
      "epoch: 22, train_loss:0.6055, val_accuracy: 0.7595\n",
      "epoch: 23, train_loss:0.5925, val_accuracy: 0.7794\n",
      "epoch: 24, train_loss:0.6026, val_accuracy: 0.7873\n",
      "epoch: 25, train_loss:0.5986, val_accuracy: 0.7973\n",
      "epoch: 26, train_loss:0.5902, val_accuracy: 0.8069\n",
      "epoch: 27, train_loss:0.5951, val_accuracy: 0.7850\n",
      "epoch: 28, train_loss:0.6113, val_accuracy: 0.7899\n",
      "epoch: 29, train_loss:0.6289, val_accuracy: 0.7655\n",
      "epoch: 30, train_loss:0.6372, val_accuracy: 0.7743\n",
      "epoch: 31, train_loss:0.6281, val_accuracy: 0.7764\n",
      "epoch: 32, train_loss:0.6119, val_accuracy: 0.7729\n",
      "epoch: 33, train_loss:0.6120, val_accuracy: 0.7751\n",
      "epoch: 34, train_loss:0.6253, val_accuracy: 0.7721\n",
      "epoch: 35, train_loss:0.6352, val_accuracy: 0.7740\n",
      "epoch: 36, train_loss:0.6255, val_accuracy: 0.7912\n",
      "epoch: 37, train_loss:0.6212, val_accuracy: 0.7913\n",
      "epoch: 38, train_loss:0.6110, val_accuracy: 0.7835\n",
      "epoch: 39, train_loss:0.6150, val_accuracy: 0.7550\n",
      "epoch: 40, train_loss:0.6104, val_accuracy: 0.7655\n",
      "epoch: 41, train_loss:0.6127, val_accuracy: 0.7717\n",
      "epoch: 42, train_loss:0.6323, val_accuracy: 0.7749\n",
      "epoch: 43, train_loss:0.6313, val_accuracy: 0.7723\n",
      "epoch: 44, train_loss:0.6275, val_accuracy: 0.7313\n",
      "epoch: 45, train_loss:0.6242, val_accuracy: 0.7520\n",
      "epoch: 46, train_loss:0.6263, val_accuracy: 0.7676\n",
      "epoch: 47, train_loss:0.6120, val_accuracy: 0.7738\n",
      "epoch: 48, train_loss:0.6218, val_accuracy: 0.7899\n",
      "epoch: 49, train_loss:0.6249, val_accuracy: 0.7724\n"
     ]
    }
   ],
   "source": [
    "# initializing hyperparms in wandb\n",
    "wandb.init(project='backprop_scratch', \n",
    "           config={ 'Learning_rate' : 0.001, \n",
    "                    'epochs' : 50, \n",
    "                    'batch_size' : 32, \n",
    "                    'layer_size' : [784, 128, 64, 10],\n",
    "                  'optimizer': ['sgd', 'momentum sgd'],\n",
    "                  'beta': 0.90})\n",
    "\n",
    "print(wandb.config)\n",
    "\n",
    "config = wandb.config\n",
    "\n",
    "# now let's create and train the network\n",
    "model = backprop_from_scratch(config.layer_size)\n",
    "\n",
    "model.train(train_x, train_y, val_x, val_y, config.epochs, config.Learning_rate, config.batch_size)\n",
    "\n"
   ]
  },
  {
   "cell_type": "code",
   "execution_count": 161,
   "id": "ee1ef9b8-1fe8-49e6-b5e8-6e062fc607ff",
   "metadata": {},
   "outputs": [
    {
     "name": "stdout",
     "output_type": "stream",
     "text": [
      "test_accuracy: 0.7657\n"
     ]
    }
   ],
   "source": [
    "# now let's evaluate on the test set\n",
    "test_predictions = model.predict(test_images) \n",
    "test_accuracy = np.mean(test_predictions == np.argmax(test_labels, axis = 1))\n",
    "print(f\"test_accuracy:{test_accuracy: .4f}\") \n",
    "wandb.log({'test_accuracy': test_accuracy})"
   ]
  },
  {
   "cell_type": "markdown",
   "id": "fd366f29-8241-4a6b-b705-daa636db7957",
   "metadata": {},
   "source": [
    "#### NAG"
   ]
  },
  {
   "cell_type": "code",
   "execution_count": null,
   "id": "cb01c8f0-3eed-4857-8d0b-bc23309f8e61",
   "metadata": {},
   "outputs": [],
   "source": [
    "# converted the same code for sgd for momentum sgd\n",
    "\n",
    "import numpy as np \n",
    "\n",
    "# defining a backprop_from_scratch to do all.\n",
    "class backprop_from_scratch:\n",
    "\n",
    "    # define constructor\n",
    "    def __init__(self, layer_size):\n",
    "        \n",
    "        # initialise the neural network\n",
    "        self.weights, self.biases = [], []\n",
    "        self.num_layers = len(layer_size)\n",
    "        self.layer_sizes = layer_size\n",
    "        self.initialize_params()\n",
    "\n",
    "        # delarin and initializing the velocity for weights and bias\n",
    "        self.weights_velocity = []\n",
    "        self.bias_velocity = []\n",
    "\n",
    "        self.weights_velocity = [np.zeros_like(w) for w in self.weights]\n",
    "        self.bias_velocity = [np.zeros_like(b) for b in self.biases]\n",
    "\n",
    "        # parameter of momentum\n",
    "        self.beta = 0.90\n",
    "\n",
    "    \n",
    "    def initialize_params(self):\n",
    "        # let's use He initialization for weights and set values of bias equals to zero\n",
    "        for i in range(self.num_layers-1):\n",
    "            w = np.random.randn(self.layer_sizes[i], self.layer_sizes[i+1]) * np.sqrt(2/self.layer_sizes[i])\n",
    "            b = np.zeros((1, self.layer_sizes[i+1]))\n",
    "            self.weights.append(w) \n",
    "            self.biases.append(b) \n",
    "            \n",
    "    def forward_pass(self, data_X):\n",
    "        neuron_outputs = [data_X]\n",
    "        # pass thorugh hidden layers\n",
    "        for i in range(self.num_layers - 2): \n",
    "            \n",
    "            # print(\"ran\")\n",
    "            # print(neuron_outputs[-1].shape)\n",
    "            # print(self.weights[i].shape)\n",
    "            # print(self.biases[i].shape)\n",
    "            \n",
    "            a = np.dot(neuron_outputs[-1], self.weights[i]) + self.biases[i]\n",
    "            h = self.sigmoid(a)\n",
    "            neuron_outputs.append(h)\n",
    "        # pass thorugh the output layer\n",
    "        a = np.dot(neuron_outputs[-1], self.weights[-1]) + self.biases[-1]\n",
    "        output = self.softmax(a)\n",
    "        neuron_outputs.append(output)\n",
    "        return neuron_outputs\n",
    "\n",
    "    def sigmoid(self, X):\n",
    "        # clipping it bw -500 to 500 \n",
    "        return 1 / (1 + np.exp(-np.clip(X, -500, 500)))\n",
    "    \n",
    "    def sigmoid_derivative(self, x):\n",
    "        return x*(1-x) \n",
    "        \n",
    "    def softmax(self, X): \n",
    "        # clipping it for numerical stability\n",
    "        exp_x = np.exp(X - np.max(X, axis = 1, keepdims=True))\n",
    "        return exp_x/np.sum(exp_x, axis = 1, keepdims=True)\n",
    "    \n",
    "    def backword_pass(self, X, y, neuron_outputs, learning_rate):\n",
    "        \n",
    "        # compute the gradient at given value of params\n",
    "        batch_size = len(X)\n",
    "        \n",
    "        # Computing gradies with repect to the output layer \n",
    "        delta = neuron_outputs[-1] - y\n",
    "        \n",
    "        # computing gradient with respect to hidden layers\n",
    "        for i in range(self.num_layers - 2, -1, -1):\n",
    "\n",
    "            # neuron_ouputs depend on the data, which we have computed in the forward pass\n",
    "            # but delta will depend on on the weight matrices\n",
    "    \n",
    "            dw = np.dot(neuron_outputs[i].T, delta) / batch_size\n",
    "            db = np.sum(delta, axis=0, keepdims=True) / batch_size\n",
    "            \n",
    "            if i>0: # because computing delta for i=0 will be absolutely un-necessary.\n",
    "                delta = np.dot(delta, self.weights[i].T) * self.sigmoid_derivative(neuron_outputs[i])\n",
    "\n",
    "            # computing the momentum\n",
    "            self.weights_velocity[i] = self.beta * self.weights_velocity[i] + dw\n",
    "            self.bias_velocity[i] = self.beta * self.bias_velocity[i] + db\n",
    "\n",
    "            # making an update\n",
    "            self.weights[i] -= self.weights_velocity[i] * learning_rate\n",
    "            self.biases[i] -= self.bias_velocity[i] * learning_rate\n",
    "\n",
    "    # function to train the network\n",
    "    def train(self, X_train, y_train, X_val, y_val, epochs, learning_rate, batch_size):\n",
    "\n",
    "        weights_velocity, bias_velocity, beta = 0, 0, 0.95\n",
    "        for epoch in range(epochs): \n",
    "            # First shuffle the training data\n",
    "            # print(X_train.shape[0])\n",
    "            \n",
    "            indices = np.random.permutation(X_train.shape[0]) \n",
    "            X_train_permuted = X_train[indices]\n",
    "            y_train_permuted = y_train[indices]\n",
    "            \n",
    "            total_loss = 0\n",
    "            batch_num = 0\n",
    "            \n",
    "            # let's make a update for a mini batch\n",
    "            for i in range(0, X_train.shape[0], batch_size): \n",
    "                batch_x = X_train_permuted[i: i + batch_size]\n",
    "                batch_y = y_train_permuted[i: i + batch_size]\n",
    "                neuron_outputs = self.forward_pass(batch_x)\n",
    "                loss = -np.mean(np.sum(batch_y * np.log(neuron_outputs[-1] + 1e-10), axis = 1)) # to prevent numberical underflow\n",
    "                total_loss += loss\n",
    "                batch_num += 1\n",
    "                self.backword_pass(batch_x, batch_y, neuron_outputs, learning_rate)\n",
    "            \n",
    "            average_loss = total_loss/batch_num\n",
    "            \n",
    "            # now let's make predictions on validation dataset \n",
    "            validation_predictions = self.predict(X_val)\n",
    "            validation_accuracy = np.mean(validation_predictions == np.argmax(y_val, axis = 1))\n",
    "\n",
    "            # loging to wandb\n",
    "            wandb.log({'epoch': epoch , 'train_loss': average_loss, 'val_accuracy': validation_accuracy})\n",
    "            print(f\"epoch: {epoch}, train_loss:{average_loss:.4f}, val_accuracy: {validation_accuracy:.4f}\")\n",
    "            \n",
    "    def predict(self, X): \n",
    "        # this will predict class labels for the passed data\n",
    "        neuron_outputs = self.forward_pass(X)\n",
    "        return np.argmax(neuron_outputs[-1], axis=1)\n",
    "    "
   ]
  },
  {
   "cell_type": "code",
   "execution_count": null,
   "id": "84de7955-08d6-473f-81df-16af615d5dc6",
   "metadata": {},
   "outputs": [],
   "source": [
    "# initializing hyperparms in wandb\n",
    "wandb.init(project='backprop_scratch', \n",
    "           config={ 'Learning_rate' : 0.001, \n",
    "                    'epochs' : 50, \n",
    "                    'batch_size' : 32, \n",
    "                    'layer_size' : [784, 128, 64, 10],\n",
    "                  'optimizer': ['sgd', 'momentum sgd'],\n",
    "                  'beta': 0.90})\n",
    "\n",
    "print(wandb.config)\n",
    "\n",
    "config = wandb.config\n",
    "\n",
    "# now let's create and train the network\n",
    "model = backprop_from_scratch(config.layer_size)\n",
    "\n",
    "model.train(train_x, train_y, val_x, val_y, config.epochs, config.Learning_rate, config.batch_size)\n",
    "\n"
   ]
  },
  {
   "cell_type": "code",
   "execution_count": null,
   "id": "8ba1d57f-91af-4b44-ac0e-858ad8891c42",
   "metadata": {},
   "outputs": [],
   "source": [
    "# now let's evaluate on the test set\n",
    "test_predictions = model.predict(test_images) \n",
    "test_accuracy = np.mean(test_predictions == np.argmax(test_labels, axis = 1))\n",
    "print(f\"test_accuracy:{test_accuracy: .4f}\") \n",
    "wandb.log({'test_accuracy': test_accuracy})"
   ]
  },
  {
   "cell_type": "markdown",
   "id": "b79f47b7-a8de-451c-a033-6ec446649b42",
   "metadata": {},
   "source": [
    "question is how are going to compute gradient exactly at a little bit farther distance in the direction of the momentum."
   ]
  },
  {
   "cell_type": "code",
   "execution_count": null,
   "id": "b3bcddb4-e2c0-4546-9ebc-5bdcf08e83db",
   "metadata": {},
   "outputs": [],
   "source": []
  }
 ],
 "metadata": {
  "kernelspec": {
   "display_name": "Python 3 (ipykernel)",
   "language": "python",
   "name": "python3"
  },
  "language_info": {
   "codemirror_mode": {
    "name": "ipython",
    "version": 3
   },
   "file_extension": ".py",
   "mimetype": "text/x-python",
   "name": "python",
   "nbconvert_exporter": "python",
   "pygments_lexer": "ipython3",
   "version": "3.12.7"
  }
 },
 "nbformat": 4,
 "nbformat_minor": 5
}
