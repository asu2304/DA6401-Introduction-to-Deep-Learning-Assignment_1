{
 "cells": [
  {
   "cell_type": "code",
   "execution_count": 1,
   "id": "1cd17589-d1c5-4208-86cc-8bfa1c565200",
   "metadata": {},
   "outputs": [
    {
     "name": "stdout",
     "output_type": "stream",
     "text": [
      "Defaulting to user installation because normal site-packages is not writeable\n",
      "Requirement already satisfied: wandb in c:\\users\\ashutosh patidar\\appdata\\roaming\\python\\python312\\site-packages (0.19.7)\n",
      "Requirement already satisfied: click!=8.0.0,>=7.1 in c:\\anaconda3\\lib\\site-packages (from wandb) (8.1.7)\n",
      "Requirement already satisfied: docker-pycreds>=0.4.0 in c:\\users\\ashutosh patidar\\appdata\\roaming\\python\\python312\\site-packages (from wandb) (0.4.0)\n",
      "Requirement already satisfied: gitpython!=3.1.29,>=1.0.0 in c:\\anaconda3\\lib\\site-packages (from wandb) (3.1.43)\n",
      "Requirement already satisfied: platformdirs in c:\\anaconda3\\lib\\site-packages (from wandb) (3.10.0)\n",
      "Requirement already satisfied: protobuf!=4.21.0,!=5.28.0,<6,>=3.19.0 in c:\\anaconda3\\lib\\site-packages (from wandb) (4.25.3)\n",
      "Requirement already satisfied: psutil>=5.0.0 in c:\\anaconda3\\lib\\site-packages (from wandb) (5.9.0)\n",
      "Requirement already satisfied: pydantic<3,>=2.6 in c:\\anaconda3\\lib\\site-packages (from wandb) (2.8.2)\n",
      "Requirement already satisfied: pyyaml in c:\\anaconda3\\lib\\site-packages (from wandb) (6.0.1)\n",
      "Requirement already satisfied: requests<3,>=2.0.0 in c:\\anaconda3\\lib\\site-packages (from wandb) (2.32.3)\n",
      "Requirement already satisfied: sentry-sdk>=2.0.0 in c:\\users\\ashutosh patidar\\appdata\\roaming\\python\\python312\\site-packages (from wandb) (2.22.0)\n",
      "Requirement already satisfied: setproctitle in c:\\users\\ashutosh patidar\\appdata\\roaming\\python\\python312\\site-packages (from wandb) (1.3.5)\n",
      "Requirement already satisfied: setuptools in c:\\anaconda3\\lib\\site-packages (from wandb) (75.1.0)\n",
      "Requirement already satisfied: colorama in c:\\anaconda3\\lib\\site-packages (from click!=8.0.0,>=7.1->wandb) (0.4.6)\n",
      "Requirement already satisfied: six>=1.4.0 in c:\\anaconda3\\lib\\site-packages (from docker-pycreds>=0.4.0->wandb) (1.16.0)\n",
      "Requirement already satisfied: gitdb<5,>=4.0.1 in c:\\anaconda3\\lib\\site-packages (from gitpython!=3.1.29,>=1.0.0->wandb) (4.0.7)\n",
      "Requirement already satisfied: annotated-types>=0.4.0 in c:\\anaconda3\\lib\\site-packages (from pydantic<3,>=2.6->wandb) (0.6.0)\n",
      "Requirement already satisfied: pydantic-core==2.20.1 in c:\\anaconda3\\lib\\site-packages (from pydantic<3,>=2.6->wandb) (2.20.1)\n",
      "Requirement already satisfied: typing-extensions>=4.6.1 in c:\\anaconda3\\lib\\site-packages (from pydantic<3,>=2.6->wandb) (4.11.0)\n",
      "Requirement already satisfied: charset-normalizer<4,>=2 in c:\\anaconda3\\lib\\site-packages (from requests<3,>=2.0.0->wandb) (3.3.2)\n",
      "Requirement already satisfied: idna<4,>=2.5 in c:\\anaconda3\\lib\\site-packages (from requests<3,>=2.0.0->wandb) (3.7)\n",
      "Requirement already satisfied: urllib3<3,>=1.21.1 in c:\\anaconda3\\lib\\site-packages (from requests<3,>=2.0.0->wandb) (2.2.3)\n",
      "Requirement already satisfied: certifi>=2017.4.17 in c:\\anaconda3\\lib\\site-packages (from requests<3,>=2.0.0->wandb) (2024.8.30)\n",
      "Requirement already satisfied: smmap<5,>=3.0.1 in c:\\anaconda3\\lib\\site-packages (from gitdb<5,>=4.0.1->gitpython!=3.1.29,>=1.0.0->wandb) (4.0.0)\n"
     ]
    }
   ],
   "source": [
    "!pip install wandb"
   ]
  },
  {
   "cell_type": "code",
   "execution_count": 2,
   "id": "94710321-6c4c-4644-aca4-5ca13ae61672",
   "metadata": {
    "scrolled": true
   },
   "outputs": [
    {
     "name": "stderr",
     "output_type": "stream",
     "text": [
      "wandb: Using wandb-core as the SDK backend.  Please refer to https://wandb.me/wandb-core for more information.\n",
      "wandb: Currently logged in as: da24s006 (da24s006-indian-institue-of-technology-madras-) to https://api.wandb.ai. Use `wandb login --relogin` to force relogin\n"
     ]
    },
    {
     "data": {
      "text/plain": [
       "True"
      ]
     },
     "execution_count": 2,
     "metadata": {},
     "output_type": "execute_result"
    }
   ],
   "source": [
    "import wandb\n",
    "wandb.login()"
   ]
  },
  {
   "cell_type": "code",
   "execution_count": 3,
   "id": "787317cc-b28d-4c16-8bec-7c8ff2cac14e",
   "metadata": {
    "scrolled": true
   },
   "outputs": [
    {
     "data": {
      "text/html": [
       "Tracking run with wandb version 0.19.7"
      ],
      "text/plain": [
       "<IPython.core.display.HTML object>"
      ]
     },
     "metadata": {},
     "output_type": "display_data"
    },
    {
     "data": {
      "text/html": [
       "Run data is saved locally in <code>C:\\Users\\Ashutosh Patidar\\OneDrive\\Documents\\GitHub\\Assignment_1_Deep_Learning\\wandb\\run-20250302_120718-7iy19zsb</code>"
      ],
      "text/plain": [
       "<IPython.core.display.HTML object>"
      ]
     },
     "metadata": {},
     "output_type": "display_data"
    },
    {
     "data": {
      "text/html": [
       "Syncing run <strong><a href='https://wandb.ai/da24s006-indian-institue-of-technology-madras-/Backprop_From_Scratch/runs/7iy19zsb' target=\"_blank\">rose-snow-3</a></strong> to <a href='https://wandb.ai/da24s006-indian-institue-of-technology-madras-/Backprop_From_Scratch' target=\"_blank\">Weights & Biases</a> (<a href='https://wandb.me/developer-guide' target=\"_blank\">docs</a>)<br>"
      ],
      "text/plain": [
       "<IPython.core.display.HTML object>"
      ]
     },
     "metadata": {},
     "output_type": "display_data"
    },
    {
     "data": {
      "text/html": [
       " View project at <a href='https://wandb.ai/da24s006-indian-institue-of-technology-madras-/Backprop_From_Scratch' target=\"_blank\">https://wandb.ai/da24s006-indian-institue-of-technology-madras-/Backprop_From_Scratch</a>"
      ],
      "text/plain": [
       "<IPython.core.display.HTML object>"
      ]
     },
     "metadata": {},
     "output_type": "display_data"
    },
    {
     "data": {
      "text/html": [
       " View run at <a href='https://wandb.ai/da24s006-indian-institue-of-technology-madras-/Backprop_From_Scratch/runs/7iy19zsb' target=\"_blank\">https://wandb.ai/da24s006-indian-institue-of-technology-madras-/Backprop_From_Scratch/runs/7iy19zsb</a>"
      ],
      "text/plain": [
       "<IPython.core.display.HTML object>"
      ]
     },
     "metadata": {},
     "output_type": "display_data"
    },
    {
     "data": {
      "text/html": [
       "<button onClick=\"this.nextSibling.style.display='block';this.style.display='none';\">Display W&B run</button><iframe src='https://wandb.ai/da24s006-indian-institue-of-technology-madras-/Backprop_From_Scratch/runs/7iy19zsb?jupyter=true' style='border:none;width:100%;height:420px;display:none;'></iframe>"
      ],
      "text/plain": [
       "<wandb.sdk.wandb_run.Run at 0x2a9737ccf80>"
      ]
     },
     "execution_count": 3,
     "metadata": {},
     "output_type": "execute_result"
    }
   ],
   "source": [
    "wandb.init(project='Backprop_From_Scratch')"
   ]
  },
  {
   "cell_type": "code",
   "execution_count": 4,
   "id": "ef626169-8b15-4d9a-b291-f99be0e8acbf",
   "metadata": {},
   "outputs": [],
   "source": [
    "import matplotlib.pyplot as plt \n",
    "from keras.datasets import fashion_mnist\n",
    "(train_images, train_labels), (test_images, test_labels) = fashion_mnist.load_data()"
   ]
  },
  {
   "cell_type": "markdown",
   "id": "7512bae4-b67a-410a-86ba-5fd237cc63e7",
   "metadata": {},
   "source": [
    "**Question 1(2 Marks):**"
   ]
  },
  {
   "cell_type": "code",
   "execution_count": 6,
   "id": "7149b6f5-b38a-4dd6-912f-bab9a9b7b324",
   "metadata": {},
   "outputs": [
    {
     "data": {
      "image/png": "[encoded data removed]",
      "text/plain": [
       "<Figure size 400x200 with 10 Axes>"
      ]
     },
     "metadata": {},
     "output_type": "display_data"
    },
    {
     "data": {
      "text/html": [],
      "text/plain": [
       "<IPython.core.display.HTML object>"
      ]
     },
     "metadata": {},
     "output_type": "display_data"
    },
    {
     "data": {
      "text/html": [
       " View run <strong style=\"color:#cdcd00\">rose-snow-3</strong> at: <a href='https://wandb.ai/da24s006-indian-institue-of-technology-madras-/Backprop_From_Scratch/runs/7iy19zsb' target=\"_blank\">https://wandb.ai/da24s006-indian-institue-of-technology-madras-/Backprop_From_Scratch/runs/7iy19zsb</a><br> View project at: <a href='https://wandb.ai/da24s006-indian-institue-of-technology-madras-/Backprop_From_Scratch' target=\"_blank\">https://wandb.ai/da24s006-indian-institue-of-technology-madras-/Backprop_From_Scratch</a><br>Synced 5 W&B file(s), 1 media file(s), 0 artifact file(s) and 0 other file(s)"
      ],
      "text/plain": [
       "<IPython.core.display.HTML object>"
      ]
     },
     "metadata": {},
     "output_type": "display_data"
    },
    {
     "data": {
      "text/html": [
       "Find logs at: <code>.\\wandb\\run-20250302_120718-7iy19zsb\\logs</code>"
      ],
      "text/plain": [
       "<IPython.core.display.HTML object>"
      ]
     },
     "metadata": {},
     "output_type": "display_data"
    }
   ],
   "source": [
    "plotted, plot_no = [], 1\n",
    "plt.figure(figsize=(4, 2))\n",
    "\n",
    "# Initialize W&B run\n",
    "wandb.init(project=\"backprop-from-scratch\", name=\"plot_unique_labels\")\n",
    "for index, label in enumerate(train_labels): \n",
    "\n",
    "    if len(plotted) == len(set(train_labels)):\n",
    "        break\n",
    "        \n",
    "    if label not in plotted: \n",
    "        plt.subplot(2, 5, plot_no)\n",
    "        plt.imshow(train_images[index], cmap='grey')\n",
    "        plotted.append(label)\n",
    "        plt.title(f'{label}')\n",
    "        plt.axis(\"off\")\n",
    "        plot_no += 1\n",
    "\n",
    "# getting the final figure\n",
    "fig = plt.gcf()\n",
    "\n",
    "#loggint the figure of wandb\n",
    "wandb.log({\"unique_labels_plot\": wandb.Image(fig)})\n",
    "\n",
    "plt.show()\n",
    "wandb.finish()"
   ]
  },
  {
   "cell_type": "markdown",
   "id": "5507f7bc-2fca-4c5b-877d-fcde8c3d8f47",
   "metadata": {},
   "source": [
    "**Question 2(10 Marks):**"
   ]
  },
  {
   "cell_type": "code",
   "execution_count": 234,
   "id": "c786be43-3f28-48fe-ab62-b6ee025a7ec4",
   "metadata": {},
   "outputs": [],
   "source": [
    "import numpy as np \n",
    "\n",
    "# defining a backprop_from_scratch to do all.\n",
    "class backprop_from_scratch:\n",
    "\n",
    "    # define constructor\n",
    "    def __init__(self, layer_size):\n",
    "        # initialise the neural network\n",
    "        self.weights, self.biases = [], []\n",
    "        self.num_layers = len(layer_size)\n",
    "        self.layer_sizes = layer_size\n",
    "        self.initialize_params()\n",
    "        \n",
    "    def initialize_params(self):\n",
    "        # let's use He initialization for weights and set values of bias equals to zero\n",
    "        for i in range(self.num_layers-1):\n",
    "            w = np.random.randn(self.layer_sizes[i], self.layer_sizes[i+1]) * np.sqrt(2/self.layer_sizes[i])\n",
    "            b = np.zeros((1, self.layer_sizes[i+1]))\n",
    "            self.weights.append(w) \n",
    "            self.biases.append(b) \n",
    "            \n",
    "    def forward_pass(self, data_X):\n",
    "        activations = [data_X]\n",
    "        # pass thorugh hidden layers\n",
    "        for i in range(self.num_layers - 2): \n",
    "            \n",
    "            # print(\"ran\")\n",
    "            # print(activations[-1].shape)\n",
    "            # print(self.weights[i].shape)\n",
    "            # print(self.biases[i].shape)\n",
    "            \n",
    "            a = np.dot(activations[-1], self.weights[i]) + self.biases[i]\n",
    "            h = self.sigmoid(a)\n",
    "            activations.append(h)\n",
    "        # pass thorugh the output layer\n",
    "        a = np.dot(activations[-1], self.weights[-1]) + self.biases[-1]\n",
    "        output = self.softmax(a)\n",
    "        activations.append(output)\n",
    "        return activations\n",
    "\n",
    "    def sigmoid(self, X):\n",
    "        # clipping it bw -500 to 500 if numberical instability occurs or uncomment the below line\n",
    "        return 1 / (1 + np.exp(-np.clip(X, -500, 500)) \n",
    "    \n",
    "    def sigmoid_derivative(self, x):\n",
    "        return x*(1-x) \n",
    "        \n",
    "    def softmax(self, X): \n",
    "        exp_x = np.exp(X)\n",
    "        return exp_x/sum(exp_x) # clip it for numerical stability or uncomment below two lines\n",
    "        # exp_x = np.exp(X-max(X, axis = 1, keepdims=True)\n",
    "        # return exp_x/sum(exp_x, axis = 1, keepdims=Ture)\n",
    "        \n",
    "    def backword_pass(self, X, y, activations, learning_rate):\n",
    "        # compute the gradient at given value of params\n",
    "        batch_size = len(X)\n",
    "        # computing gradies with repect to the output layer \n",
    "        delta = activations[-1] - y\n",
    "        # computing gradient with respect to hidden layers\n",
    "        for i in range(self.num_layers - 2, -1, -1):\n",
    "            dw = np.dot(activations[i].T, delta) / batch_size\n",
    "            db = np.sum(delta, axis=0, keepdims=True) / batch_size\n",
    "            if i>0: \n",
    "                delta = np.dot(delta, self.weights[i].T) * self.sigmoid_derivative(activations[i])\n",
    "            self.weights[i] -= dw\n",
    "            self.biases[i] -= db\n",
    "        \n",
    "    # function to train the network\n",
    "    def train(self, X_train, y_train, X_val, y_val, epochs, learning_rate, batch_size):\n",
    "        for epoch in range(epochs): \n",
    "            # first shuffle the training data\n",
    "            # print(X_train.shape[0])\n",
    "            \n",
    "            indices = np.random.permutation(X_train.shape[0]) \n",
    "            X_train_permuted = X_train[indices]\n",
    "            y_train_permuted = y_train[indices]\n",
    "            \n",
    "            total_loss = 0\n",
    "            batch_num = 0\n",
    "            \n",
    "            # let's make a update for a mini batch\n",
    "            for i in range(0, X_train.shape[0], batch_size): \n",
    "                batch_x = X_train_permuted[i: i + batch_size]\n",
    "                batch_y = y_train_permuted[i: i + batch_size]\n",
    "                activations = self.forward_pass(batch_x)\n",
    "                loss = -np.mean(np.sum(batch_y * np.log(activations[-1] + 1e-10), axis = 1)) # to prevent numberical underflow\n",
    "                total_loss += loss\n",
    "                batch_num += 1\n",
    "                self.backword_pass(batch_x, batch_y, activations, learning_rate)\n",
    "            average_loss = total_loss/batch_num\n",
    "            \n",
    "            # now let's make predictions on validation dataset \n",
    "            validation_predictions = self.predict(X_val)\n",
    "            validation_accuracy = np.mean(validation_predictions == np.argmax(y_val, axis = 1))\n",
    "\n",
    "            # loging to wandb\n",
    "            wandb.log({'epoch': epoch , 'train_loss': average_loss, 'val_accuracy': validation_accuracy})\n",
    "            print(f\"epoch: {epoch}, train_loss:{average_loss:.4f}, val_accuracy: {validation_accuracy:.4f}\")\n",
    "            \n",
    "    def predict(self, X): \n",
    "        # this will predict class labels for the passed data\n",
    "        activations = self.forward_pass(X)\n",
    "        return np.argmax(activations[-1], axis=1)\n",
    "    "
   ]
  },
  {
   "cell_type": "code",
   "execution_count": 236,
   "id": "accc57be-f35a-4af8-9f6c-8a1bce905e83",
   "metadata": {},
   "outputs": [
    {
     "name": "stderr",
     "output_type": "stream",
     "text": [
      "C:\\Users\\Ashutosh Patidar\\AppData\\Local\\Temp\\ipykernel_22468\\3626320839.py:42: RuntimeWarning: overflow encountered in exp\n",
      "  return 1 / (1 + np.exp(-X)) # clip it bw -500 to 500 if numberical instability occurs or uncomment the below line\n",
      "C:\\Users\\Ashutosh Patidar\\AppData\\Local\\Temp\\ipykernel_22468\\3626320839.py:50: RuntimeWarning: overflow encountered in add\n",
      "  return exp_x/sum(exp_x) # clip it for numerical stability or uncomment below two lines\n",
      "C:\\Users\\Ashutosh Patidar\\AppData\\Local\\Temp\\ipykernel_22468\\3626320839.py:49: RuntimeWarning: overflow encountered in exp\n",
      "  exp_x = np.exp(X)\n",
      "C:\\Users\\Ashutosh Patidar\\AppData\\Local\\Temp\\ipykernel_22468\\3626320839.py:50: RuntimeWarning: invalid value encountered in divide\n",
      "  return exp_x/sum(exp_x) # clip it for numerical stability or uncomment below two lines\n"
     ]
    },
    {
     "name": "stdout",
     "output_type": "stream",
     "text": [
      "epoch: 0, train_loss:nan, val_accuracy: 0.0962\n",
      "epoch: 1, train_loss:nan, val_accuracy: 0.0962\n",
      "epoch: 2, train_loss:nan, val_accuracy: 0.0962\n",
      "epoch: 3, train_loss:nan, val_accuracy: 0.0962\n",
      "epoch: 4, train_loss:nan, val_accuracy: 0.0962\n",
      "epoch: 5, train_loss:nan, val_accuracy: 0.0962\n",
      "epoch: 6, train_loss:nan, val_accuracy: 0.0962\n",
      "epoch: 7, train_loss:nan, val_accuracy: 0.0962\n",
      "epoch: 8, train_loss:nan, val_accuracy: 0.0962\n",
      "epoch: 9, train_loss:nan, val_accuracy: 0.0962\n",
      "epoch: 10, train_loss:nan, val_accuracy: 0.0962\n",
      "epoch: 11, train_loss:nan, val_accuracy: 0.0962\n",
      "epoch: 12, train_loss:nan, val_accuracy: 0.0962\n",
      "epoch: 13, train_loss:nan, val_accuracy: 0.0962\n",
      "epoch: 14, train_loss:nan, val_accuracy: 0.0962\n",
      "epoch: 15, train_loss:nan, val_accuracy: 0.0962\n",
      "epoch: 16, train_loss:nan, val_accuracy: 0.0962\n",
      "epoch: 17, train_loss:nan, val_accuracy: 0.0962\n",
      "epoch: 18, train_loss:nan, val_accuracy: 0.0962\n",
      "epoch: 19, train_loss:nan, val_accuracy: 0.0962\n",
      "epoch: 20, train_loss:nan, val_accuracy: 0.0962\n",
      "epoch: 21, train_loss:nan, val_accuracy: 0.0962\n",
      "epoch: 22, train_loss:nan, val_accuracy: 0.0962\n",
      "epoch: 23, train_loss:nan, val_accuracy: 0.0962\n",
      "epoch: 24, train_loss:nan, val_accuracy: 0.0962\n",
      "epoch: 25, train_loss:nan, val_accuracy: 0.0962\n",
      "epoch: 26, train_loss:nan, val_accuracy: 0.0962\n",
      "epoch: 27, train_loss:nan, val_accuracy: 0.0962\n",
      "epoch: 28, train_loss:nan, val_accuracy: 0.0962\n",
      "epoch: 29, train_loss:nan, val_accuracy: 0.0962\n",
      "epoch: 30, train_loss:nan, val_accuracy: 0.0962\n",
      "epoch: 31, train_loss:nan, val_accuracy: 0.0962\n",
      "epoch: 32, train_loss:nan, val_accuracy: 0.0962\n",
      "epoch: 33, train_loss:nan, val_accuracy: 0.0962\n",
      "epoch: 34, train_loss:nan, val_accuracy: 0.0962\n",
      "epoch: 35, train_loss:nan, val_accuracy: 0.0962\n",
      "epoch: 36, train_loss:nan, val_accuracy: 0.0962\n",
      "epoch: 37, train_loss:nan, val_accuracy: 0.0962\n",
      "epoch: 38, train_loss:nan, val_accuracy: 0.0962\n",
      "epoch: 39, train_loss:nan, val_accuracy: 0.0962\n",
      "epoch: 40, train_loss:nan, val_accuracy: 0.0962\n",
      "epoch: 41, train_loss:nan, val_accuracy: 0.0962\n",
      "epoch: 42, train_loss:nan, val_accuracy: 0.0962\n",
      "epoch: 43, train_loss:nan, val_accuracy: 0.0962\n",
      "epoch: 44, train_loss:nan, val_accuracy: 0.0962\n",
      "epoch: 45, train_loss:nan, val_accuracy: 0.0962\n",
      "epoch: 46, train_loss:nan, val_accuracy: 0.0962\n",
      "epoch: 47, train_loss:nan, val_accuracy: 0.0962\n",
      "epoch: 48, train_loss:nan, val_accuracy: 0.0962\n",
      "epoch: 49, train_loss:nan, val_accuracy: 0.0962\n"
     ]
    }
   ],
   "source": [
    "# Splitting the trainig data into train and validation\n",
    "\n",
    "indices = np.arange(train_images.shape[0])\n",
    "np.random.shuffle(indices)\n",
    "train_size = 50000\n",
    "train_x = train_images[indices[:train_size]]\n",
    "train_y = train_labels[indices[:train_size]]\n",
    "val_x = train_images[indices[train_size:]]\n",
    "val_y = train_labels[indices[train_size:]]\n",
    "\n",
    "train_x = train_x.reshape(train_x.shape[0], -1)\n",
    "val_x = val_x.reshape(val_x.shape[0], -1)\n",
    "\n",
    "# train_x.ravel()\n",
    "# val_y.ravel()\n",
    "\n",
    "# converting y's into one hot vector\n",
    "num_classes = 10\n",
    "train_y = np.eye(num_classes)[train_y]\n",
    "val_y = np.eye(num_classes)[val_y]\n",
    "\n",
    "# initializing hyperparms in wandb\n",
    "wandb.init(project='backprop_scratch', \n",
    "           config={ 'Learning_rate' : 0.1, \n",
    "                    'epochs' : 50, \n",
    "                    'batch_size' : 32, \n",
    "                    'layer_size' : [784, 128, 64, 10]})\n",
    "\n",
    "config = wandb.config\n",
    "\n",
    "# now let's create and train the network\n",
    "model = backprop_from_scratch(config.layer_size)\n",
    "model.train(train_x, train_y, val_x, val_y, config.epochs, config.Learning_rate, config.batch_size)\n",
    "\n",
    "# # now let's evaluate on the test set\n",
    "# test_predictions = model.predict(test_images) # yet to reshape\n",
    "# test_accuracy = np.mean(test_predictions == np.argmax(test_labels, axis = 1))\n",
    "# print(f\"test_accuracy:{test_accuracy: .4f}\") \n",
    "# wandb.log({'test_accuracy': test_accuracy})\n"
   ]
  },
  {
   "cell_type": "code",
   "execution_count": null,
   "id": "4eb2250d-d827-4064-9b0d-3618ac2e5ee1",
   "metadata": {},
   "outputs": [],
   "source": []
  },
  {
   "cell_type": "code",
   "execution_count": 56,
   "id": "32d8d8f0",
   "metadata": {},
   "outputs": [],
   "source": [
    "indices = np.random.permutation(10) "
   ]
  },
  {
   "cell_type": "code",
   "execution_count": 58,
   "id": "5bb5770b-66c7-490b-9d10-b1d3514dd9dd",
   "metadata": {},
   "outputs": [
    {
     "data": {
      "text/plain": [
       "array([6, 5, 8, 0, 7, 9, 2, 1, 4, 3])"
      ]
     },
     "execution_count": 58,
     "metadata": {},
     "output_type": "execute_result"
    }
   ],
   "source": [
    "indices"
   ]
  },
  {
   "cell_type": "code",
   "execution_count": null,
   "id": "ee1ef9b8-1fe8-49e6-b5e8-6e062fc607ff",
   "metadata": {},
   "outputs": [],
   "source": []
  }
 ],
 "metadata": {
  "kernelspec": {
   "display_name": "Python 3 (ipykernel)",
   "language": "python",
   "name": "python3"
  },
  "language_info": {
   "codemirror_mode": {
    "name": "ipython",
    "version": 3
   },
   "file_extension": ".py",
   "mimetype": "text/x-python",
   "name": "python",
   "nbconvert_exporter": "python",
   "pygments_lexer": "ipython3",
   "version": "3.12.7"
  }
 },
 "nbformat": 4,
 "nbformat_minor": 5
}
